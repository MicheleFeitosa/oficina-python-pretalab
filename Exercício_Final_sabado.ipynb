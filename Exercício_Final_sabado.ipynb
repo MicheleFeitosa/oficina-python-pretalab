{
  "nbformat": 4,
  "nbformat_minor": 0,
  "metadata": {
    "colab": {
      "provenance": [],
      "include_colab_link": true
    },
    "kernelspec": {
      "name": "python3",
      "display_name": "Python 3"
    },
    "language_info": {
      "name": "python"
    }
  },
  "cells": [
    {
      "cell_type": "markdown",
      "metadata": {
        "id": "view-in-github",
        "colab_type": "text"
      },
      "source": [
        "<a href=\"https://colab.research.google.com/github/MicheleFeitosa/oficina-python-pretalab/blob/main/Exerc%C3%ADcio_Final_sabado.ipynb\" target=\"_parent\"><img src=\"https://colab.research.google.com/assets/colab-badge.svg\" alt=\"Open In Colab\"/></a>"
      ]
    },
    {
      "cell_type": "markdown",
      "source": [
        "# Contagem de Medalhas\n",
        "\n",
        "Crie um programa que receba o número de medalhas de ouro, prata e bronze de um país nas Olimpíadas e calcule o total de medalhas.\n",
        "Quando escrever 'sair', o programa deverá encerrar e mostrar na tela o ranking de medalhas no formato:"
      ],
      "metadata": {
        "id": "RQN1e5FZY6SZ"
      }
    },
    {
      "cell_type": "code",
      "source": [
        "#Ranking de medalhas:\n",
        "#Brasil: 7 medalhas\n",
        "#França: 6 medalhas\n",
        "#Argentina: 3 medalhas"
      ],
      "metadata": {
        "id": "gCq_KLHzZSzb"
      },
      "execution_count": null,
      "outputs": []
    },
    {
      "cell_type": "code",
      "execution_count": 1,
      "metadata": {
        "id": "AJJhjxiPTd5s",
        "colab": {
          "base_uri": "https://localhost:8080/"
        },
        "outputId": "1f081505-29b4-4cb3-ed45-f4426eb61335"
      },
      "outputs": [
        {
          "output_type": "stream",
          "name": "stdout",
          "text": [
            "Digite o nome do país (ou 'sair' para encerrar): Brasil \n",
            "Digite o número de medalhas de ouro: 15\n",
            "Digite o número de medalhas de prata: 20\n",
            "Digite o número de medalhas de bronze: 31\n",
            "Digite o nome do país (ou 'sair' para encerrar): França \n",
            "Digite o número de medalhas de ouro: 12\n",
            "Digite o número de medalhas de prata: 3\n",
            "Digite o número de medalhas de bronze: 4\n",
            "Digite o nome do país (ou 'sair' para encerrar): EUA\n",
            "Digite o número de medalhas de ouro: 10\n",
            "Digite o número de medalhas de prata: 12\n",
            "Digite o número de medalhas de bronze: 5\n",
            "Digite o nome do país (ou 'sair' para encerrar): sair\n",
            "\n",
            "#Ranking de medalhas:\n",
            "#Brasil : 66 medalhas\n",
            "#EUA: 27 medalhas\n",
            "#França : 19 medalhas\n"
          ]
        }
      ],
      "source": [
        "# Resposta aqui\n",
        "\n",
        "#descobri que preciso inicializar com a variavel ranking pra poder guardar os dados dos paises\n",
        "\n",
        "ranking = {}\n",
        "\n",
        "#loop while\n",
        "while True:\n",
        "  pais = input(\"Digite o nome do país (ou 'sair' para encerrar): \")\n",
        "  if pais.lower() == 'sair':\n",
        "    break\n",
        "#recebo as medalhas\n",
        "  ouro = int(input(\"Digite o número de medalhas de ouro: \"))\n",
        "  prata = int(input(\"Digite o número de medalhas de prata: \"))\n",
        "  bronze = int(input(\"Digite o número de medalhas de bronze: \"))\n",
        "\n",
        "#somo as medalhas pra salvar no ranking e conseguir ordenar em seguida\n",
        "  total_medalhas = ouro + prata + bronze\n",
        "  ranking[pais] = total_medalhas\n",
        "\n",
        "#ordenação em ordem decrescente\n",
        "  ranking = dict(sorted(ranking.items(), key=lambda item: item[1], reverse=True))\n",
        "\n",
        "# imprimindo o ranking usando um for pra iterar os elementos no ranking\n",
        "print(\"\\n#Ranking de medalhas:\")\n",
        "for pais, total in ranking.items():\n",
        " print(f\"#{pais}: {total} medalhas\")"
      ]
    }
  ]
}